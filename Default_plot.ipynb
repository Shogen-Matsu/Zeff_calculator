{
 "cells": [
  {
   "cell_type": "code",
   "execution_count": 30,
   "metadata": {},
   "outputs": [
    {
     "data": {
      "image/png": "[encoded data removed]",
      "text/plain": [
       "<Figure size 240.188x240.188 with 1 Axes>"
      ]
     },
     "metadata": {
      "needs_background": "light"
     },
     "output_type": "display_data"
    }
   ],
   "source": [
    "import matplotlib.pyplot as plt\n",
    "import matplotlib as mpl\n",
    "import numpy as np\n",
    "\n",
    "def Default_plot(x, y, x_label, y_label, x_min, x_max, y_min, y_max):\n",
    "    # True Type font setting\n",
    "    mpl.rcParams['pdf.fonttype'] = 42\n",
    "    mpl.rcParams['ps.fonttype'] = 42\n",
    "\n",
    "    params = {'mathtext.default':'regular'} # 軸ラベルにおける数式の非斜体化\n",
    "    fig1, ax1 = plt.subplots(figsize=(85/25.48, 85/25.48)) #サイズ調整\n",
    "    #ax2=ax1.twiny() #Right軸の設定 ##legendの個別設定ができなくなる\n",
    "    plt.rcParams[\"font.size\"] = 12\n",
    "    plt.rcParams['axes.linewidth'] = 1.2 # 外枠太さの調整\n",
    "    plt.rcParams[\"font.family\"] = \"Roboto-Regular\"\n",
    "    plt.rcParams[\"font.weight\"] = \"regular\"\n",
    "    # 軸の設定\n",
    "    plt.rcParams['xtick.major.width'] = 1.2 #x軸主目盛り線の線幅\n",
    "    plt.rcParams['ytick.major.width'] = 1.2 #y軸主目盛り線の線幅\n",
    "    ax1.tick_params(direction = \"in\", length=6)\n",
    "    #ax2.tick_params(direction = \"in\", length=6)\n",
    "    ax1.tick_params(which =\"minor\",direction = 'in' ,axis=\"both\", length = 0 ,width = 0) # minor ticksの非表示\n",
    "\n",
    "    params = {'mathtext.default':'regular'} # 軸ラベルにおける数式の非斜体化\n",
    "    ax1.set_xlabel(x_label)\n",
    "    ax1.set_ylabel(y_label)\n",
    "    #ax2.set_xlabel(\"Deposition temperature, $\\it{T}$\"+\"$_{dep}$\"+\" / K\")\n",
    "    \n",
    "    ax1.set_xlim(x_min,x_max)\n",
    "    ax1.set_ylim(y_min,y_max)\n",
    "    #ax2.set_xlim(1000/x_min,1000/x_max)\n",
    "    #ax1.plot(x, y, color=\"k\", linewidth=0.8)\n",
    "    ax1.scatter(x, y, color=\"b\", s=24)\n",
    "    \n",
    "x_label=\"Reciprocal deposition temperature, $\\it{T}$\"+\"$_{dep}$\"+\"$^{−1}$\"+ \"/ $10^{−3}$\"+\"K$^{−1}$\"\n",
    "y_label=\"Deposition temperature, $\\it{T}$\"+\"$_{dep}$\"+\" / K\"\n",
    "\n",
    "xy = np.random.randint(1, 99, (2, 50))\n",
    "x=xy[0]\n",
    "y=xy[1]\n",
    "\n",
    "Default_plot(x, y, x_label, y_label, -10, 110, -10, 110)"
   ]
  },
  {
   "cell_type": "code",
   "execution_count": 2,
   "metadata": {},
   "outputs": [
    {
     "data": {
      "image/png": "[encoded data removed]",
      "text/plain": [
       "<Figure size 240.188x240.188 with 1 Axes>"
      ]
     },
     "metadata": {
      "needs_background": "light"
     },
     "output_type": "display_data"
    }
   ],
   "source": [
    "#y軸非表示パターン\n",
    "\n",
    "import matplotlib.pyplot as plt\n",
    "import matplotlib as mpl\n",
    "import numpy as np\n",
    "\n",
    "def Default_plot(x, y, x_label, y_label, x_min, x_max, y_min, y_max):\n",
    "    # True Type font setting\n",
    "    mpl.rcParams['pdf.fonttype'] = 42\n",
    "    mpl.rcParams['ps.fonttype'] = 42\n",
    "\n",
    "    params = {'mathtext.default':'regular'} # 軸ラベルにおける数式の非斜体化\n",
    "    fig1, ax1 = plt.subplots(figsize=(85/25.48, 85/25.48)) #サイズ調整\n",
    "    #ax2=ax1.twiny() #Right軸の設定 ##legendの個別設定ができなくなる\n",
    "    plt.rcParams[\"font.size\"] = 12\n",
    "    plt.rcParams['axes.linewidth'] = 1.2 # 外枠太さの調整\n",
    "    plt.rcParams[\"font.family\"] = \"Roboto-Regular\"\n",
    "    plt.rcParams[\"font.weight\"] = \"regular\"\n",
    "    # 軸の設定\n",
    "    plt.rcParams['xtick.major.width'] = 1.2 #x軸主目盛り線の線幅\n",
    "    plt.rcParams['ytick.major.width'] = 1.2 #y軸主目盛り線の線幅\n",
    "    plt.tick_params(direction = \"in\", length=6)\n",
    "\n",
    "    plt.tick_params('x', direction = \"in\", length=6) # メモリ対象をX軸のみに\n",
    "    plt.tick_params('y', length=0, color=\"None\") # Y軸目盛を非表示に\n",
    "    plt.yticks(color=\"None\") # Y軸の数値を非表示に\n",
    "    ax1.yaxis.set_label_coords(-0.03,0.5) # 軸の位置を固定, グラフの原点からの位置\n",
    "    ax1.tick_params(which =\"minor\",direction = 'in' ,axis=\"both\", length = 0 ,width = 0) # minor ticksの非表示\n",
    "\n",
    "    params = {'mathtext.default':'regular'} # 軸ラベルにおける数式の非斜体化\n",
    "    ax1.set_xlabel(x_label)\n",
    "    ax1.set_ylabel(y_label)\n",
    "    \n",
    "    ax1.set_xlim(x_min,x_max)\n",
    "    ax1.set_ylim(y_min,y_max)\n",
    "    #ax1.plot(x, y, color=\"k\", linewidth=0.8)\n",
    "    ax1.scatter(x, y, color=\"b\", s=24)\n",
    "    \n",
    "x_label=\"Reciprocal deposition temperature, $\\it{T}$\"+\"$_{dep}$\"+\"$^{−1}$\"+ \"/ $10^{−3}$\"+\"K$^{−1}$\"\n",
    "y_label=\"Deposition temperature, $\\it{T}$\"+\"$_{dep}$\"+\" / K\"\n",
    "\n",
    "xy = np.random.randint(1, 99, (2, 50))\n",
    "x=xy[0]\n",
    "y=xy[1]\n",
    "\n",
    "Default_plot(x, y, x_label, y_label, -10, 110, -10, 110)"
   ]
  }
 ],
 "metadata": {
  "kernelspec": {
   "display_name": "Python 3",
   "language": "python",
   "name": "python3"
  },
  "language_info": {
   "codemirror_mode": {
    "name": "ipython",
    "version": 3
   },
   "file_extension": ".py",
   "mimetype": "text/x-python",
   "name": "python",
   "nbconvert_exporter": "python",
   "pygments_lexer": "ipython3",
   "version": "3.7.7"
  }
 },
 "nbformat": 4,
 "nbformat_minor": 4
}
