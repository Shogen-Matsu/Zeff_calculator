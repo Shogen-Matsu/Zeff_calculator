{
 "cells": [
  {
   "cell_type": "code",
   "execution_count": 1,
   "metadata": {},
   "outputs": [
    {
     "name": "stdout",
     "output_type": "stream",
     "text": [
      "以下が有効原子番号, n数\n",
      "60.97603320751403 3.0\n",
      "61.269140774292815 3.1\n",
      "61.54632128717443 3.2\n",
      "61.80874936457753 3.3\n",
      "62.05749828657115 3.4\n",
      "62.29354912369951 3.5\n",
      "62.51779914236489 3.6\n",
      "62.731069505148795 3.7\n",
      "62.934112297365125 3.8\n",
      "63.127616919002804 3.9\n",
      "63.312215885446555 4.0\n",
      "以上が有効原子番号, n数\n",
      "\n",
      " ASYM=LU,Z=71,A=   0.969375,PZ= 3,RHOZ= 0.969375\n",
      " ASYM=SI,Z=14,A=   0.64625,PZ= 2,RHOZ= 0.64625\n",
      " ASYM=AL,Z=13,A=   0.64625,PZ= 2,RHOZ= 0.64625\n",
      " ASYM=O,Z=8,A=   2.261875,PZ= 7,RHOZ= 2.261875\n",
      " ASYM=N,Z=7,A=   0.64625,PZ= 2,RHOZ= 0.64625\n"
     ]
    }
   ],
   "source": [
    "# Effective atomic number\n",
    "import pandas as pd\n",
    "Atomic = [\"Lu\", \"Si\", \"Al\", \"O\", \"N\"] # 原子\n",
    "Comp = [3, 2, 2, 7, 2] #量論組成\n",
    "RHO = 5.17 ##Optional, EGS5用、混合物じゃなきゃ不要\n",
    "\n",
    "Data_sheet = pd.read_csv(\"Atomic-number.csv\", encoding=\"shift-jis\", skiprows=0, header=1).set_index(\"Atom\", drop=False)\n",
    "Data_sheet = Data_sheet.astype({\"Number\":\"int\"}).astype({\"Mole_w\":\"float64\"})\n",
    "\n",
    "Atom, Atom_weight= [], []\n",
    "for i in Atomic:\n",
    "    Atom_n = Data_sheet.at[i, \"Number\"]\n",
    "    Atom_w = Data_sheet.at[i, \"Mole_w\"]\n",
    "    Atom.append(Atom_n)\n",
    "    Atom_weight.append(Atom_w)\n",
    "Ele_frac, frac_z = [], []\n",
    "AtomComp = zip(Atom, Comp) \n",
    "for i in AtomComp:\n",
    "    Elec_frac_i = i[0] * i[1]\n",
    "    Ele_frac.append(Elec_frac_i)\n",
    "Ele_tot = sum(Ele_frac)\n",
    "print(\"以下が有効原子番号, n数\")\n",
    "for n in [n/10+3 for n in range(0, 11, 1)]:\n",
    "    AtomComp = zip(Atom, Comp)\n",
    "    for i in AtomComp:\n",
    "        frac_z_i = i[0]*i[1]/Ele_tot*i[0]**n\n",
    "        frac_z.append(frac_z_i)\n",
    "    print(sum(frac_z)**(1/n), n)\n",
    "    frac_z=[]\n",
    "AtomWeight = zip(Atomic, Atom, Atom_weight, Comp)\n",
    "AtomWeightSum = sum(Atom_weight)\n",
    "CompSum = sum(Comp)\n",
    "print(\"以上が有効原子番号, n数\")\n",
    "print(\"\")\n",
    "for i in AtomWeight:\n",
    "    print(f' ASYM={i[0].upper()},Z={i[1]},A=   {i[3]/CompSum*RHO},PZ= {i[3]},RHOZ= {i[3]/CompSum*RHO}')"
   ]
  }
 ],
 "metadata": {
  "kernelspec": {
   "display_name": "Python 3",
   "language": "python",
   "name": "python3"
  },
  "language_info": {
   "codemirror_mode": {
    "name": "ipython",
    "version": 3
   },
   "file_extension": ".py",
   "mimetype": "text/x-python",
   "name": "python",
   "nbconvert_exporter": "python",
   "pygments_lexer": "ipython3",
   "version": "3.7.6"
  }
 },
 "nbformat": 4,
 "nbformat_minor": 4
}
